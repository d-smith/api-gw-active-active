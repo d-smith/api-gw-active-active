{
 "cells": [
  {
   "cell_type": "markdown",
   "metadata": {},
   "source": [
    "## Library Code"
   ]
  },
  {
   "cell_type": "code",
   "execution_count": null,
   "metadata": {
    "collapsed": true
   },
   "outputs": [],
   "source": [
    "import boto3\n",
    "\n",
    "cloudfront = boto3.client('cloudfront')\n",
    "cloudformation = boto3.client('cloudformation')\n",
    "\n",
    "cformation_east = boto3.client('cloudformation', region_name='us-east-1')\n",
    "cformation_west = boto3.client('cloudformation', region_name='us-west-2')\n",
    "\n",
    "gw_east = boto3.client('apigateway', region_name='us-east-1')\n",
    "gw_west = boto3.client('apigateway', region_name='us-west-2')"
   ]
  },
  {
   "cell_type": "code",
   "execution_count": null,
   "metadata": {
    "collapsed": true
   },
   "outputs": [],
   "source": [
    "def get_stack_name(service, stage):\n",
    "    return '{}-{}'.format(service,stage)"
   ]
  },
  {
   "cell_type": "code",
   "execution_count": null,
   "metadata": {
    "collapsed": true
   },
   "outputs": [],
   "source": [
    "def get_endpoint(cf_client, stack_name):\n",
    "    response = cf_client.describe_stacks(\n",
    "        StackName=stack_name\n",
    "    )\n",
    "    \n",
    "    outputs = response['Stacks'][0]['Outputs']\n",
    "    endpoint =  [d for d in outputs if d['OutputKey'] == 'ServiceEndpoint'][0]['OutputValue']\n",
    "    return endpoint"
   ]
  },
  {
   "cell_type": "code",
   "execution_count": null,
   "metadata": {
    "collapsed": true
   },
   "outputs": [],
   "source": [
    "def form_s3_url_prefix(region):\n",
    "    prefix = ''\n",
    "    if region == 'us-east-1':\n",
    "        prefix = 'https://s3.amazonaws.com'\n",
    "    else:\n",
    "        prefix = 'https://s3-' + region + '.amazonaws.com'\n",
    "    return prefix"
   ]
  },
  {
   "cell_type": "markdown",
   "metadata": {},
   "source": [
    "## Create the Lambda Edge Function"
   ]
  },
  {
   "cell_type": "code",
   "execution_count": null,
   "metadata": {
    "collapsed": true
   },
   "outputs": [],
   "source": [
    "edge_fn_stack = 'edge-rt'\n",
    "cf_bucket = 'xtds-cf-templates-us-east-1'"
   ]
  },
  {
   "cell_type": "code",
   "execution_count": null,
   "metadata": {
    "collapsed": false
   },
   "outputs": [],
   "source": [
    "bucket_base = form_s3_url_prefix('us-east-1') + '/' + cf_bucket\n",
    "print bucket_base"
   ]
  },
  {
   "cell_type": "code",
   "execution_count": null,
   "metadata": {
    "collapsed": false
   },
   "outputs": [],
   "source": [
    "response = cloudformation.create_stack(\n",
    "    StackName=edge_fn_stack,\n",
    "    TemplateURL= bucket_base + '/edge.yml',\n",
    "    Parameters=[\n",
    "        {\n",
    "            'ParameterKey': 'CodeBucketName',\n",
    "            'ParameterValue':cf_bucket\n",
    "        }\n",
    "    ],\n",
    "    Capabilities=[\n",
    "        'CAPABILITY_IAM'\n",
    "    ]\n",
    ")\n",
    "\n",
    "print response"
   ]
  },
  {
   "cell_type": "code",
   "execution_count": null,
   "metadata": {
    "collapsed": false
   },
   "outputs": [],
   "source": [
    "print 'waiting on create of {}'.format(edge_fn_stack)\n",
    "waiter = cloudformation.get_waiter('stack_create_complete')\n",
    "waiter.wait(\n",
    "    StackName=edge_fn_stack\n",
    ")\n",
    "\n",
    "print 'stack created'"
   ]
  },
  {
   "cell_type": "code",
   "execution_count": null,
   "metadata": {
    "collapsed": false
   },
   "outputs": [],
   "source": [
    "#Get the arn of the lambda function created above. We will need this to set the edge function in our\n",
    "# cloud front distribution\n",
    "response = cloudformation.describe_stacks(\n",
    "    StackName=edge_fn_stack\n",
    ")\n",
    "\n",
    "print response\n",
    "\n",
    "outputs = response['Stacks'][0]['Outputs']\n",
    "lambda_arn = [d for d in outputs if d['OutputKey'] == 'LambdaArn'][0]['OutputValue']\n",
    "print lambda_arn"
   ]
  },
  {
   "cell_type": "markdown",
   "metadata": {},
   "source": [
    "## Create the API Gateway Health Checks"
   ]
  },
  {
   "cell_type": "code",
   "execution_count": null,
   "metadata": {
    "collapsed": true
   },
   "outputs": [],
   "source": [
    "# API service name and stage - assume uniform between regions\n",
    "service = 'serverless-rest-api-with-dynamodb'\n",
    "stage = 'hc1'"
   ]
  },
  {
   "cell_type": "code",
   "execution_count": null,
   "metadata": {
    "collapsed": true
   },
   "outputs": [],
   "source": [
    "# Health check stack names\n",
    "east_hc_stack = 'east-hc'\n",
    "west_hc_stack = 'west-hc'\n",
    "hc_uri = '/' + stage + '/todos/health'"
   ]
  },
  {
   "cell_type": "code",
   "execution_count": null,
   "metadata": {
    "collapsed": false
   },
   "outputs": [],
   "source": [
    "# Get the endpoints\n",
    "stack_name = get_stack_name(service, stage)\n",
    "east_endpoint = get_endpoint(cformation_east, stack_name)\n",
    "print east_endpoint\n",
    "\n",
    "west_endpoint = get_endpoint(cformation_west, stack_name)\n",
    "print west_endpoint"
   ]
  },
  {
   "cell_type": "code",
   "execution_count": null,
   "metadata": {
    "collapsed": false
   },
   "outputs": [],
   "source": [
    "from urlparse import urlparse\n",
    "parsed = urlparse(east_endpoint)\n",
    "east_netloc = parsed.netloc"
   ]
  },
  {
   "cell_type": "code",
   "execution_count": null,
   "metadata": {
    "collapsed": false
   },
   "outputs": [],
   "source": [
    "# Create the east health check\n",
    "response = cloudformation.create_stack(\n",
    "    StackName=east_hc_stack,\n",
    "    TemplateURL= bucket_base + '/hc.yml',\n",
    "    Parameters=[\n",
    "        {\n",
    "            'ParameterKey': 'APIEndpoint',\n",
    "            'ParameterValue':east_netloc\n",
    "        },\n",
    "        {\n",
    "            'ParameterKey': 'ResourcePath',\n",
    "            'ParameterValue':hc_uri\n",
    "        },\n",
    "        {\n",
    "            'ParameterKey':'Name',\n",
    "            'ParameterValue': 'east'\n",
    "        }\n",
    "    ],\n",
    "    Capabilities=[\n",
    "        'CAPABILITY_IAM'\n",
    "    ]\n",
    ")\n",
    "\n",
    "print response"
   ]
  },
  {
   "cell_type": "code",
   "execution_count": null,
   "metadata": {
    "collapsed": false
   },
   "outputs": [],
   "source": [
    "print 'waiting on create of {}'.format(edge_fn_stack)\n",
    "waiter = cloudformation.get_waiter('stack_create_complete')\n",
    "waiter.wait(\n",
    "    StackName=east_hc_stack\n",
    ")\n",
    "\n",
    "print 'stack created'"
   ]
  },
  {
   "cell_type": "code",
   "execution_count": null,
   "metadata": {
    "collapsed": false
   },
   "outputs": [],
   "source": [
    "response = cloudformation.describe_stacks(\n",
    "    StackName=east_hc_stack\n",
    ")\n",
    "\n",
    "\n",
    "outputs = response['Stacks'][0]['Outputs']\n",
    "east_health_check_id = [d for d in outputs if d['OutputKey'] == 'HealthCheckId'][0]['OutputValue']\n",
    "print east_health_check_id"
   ]
  },
  {
   "cell_type": "code",
   "execution_count": null,
   "metadata": {
    "collapsed": true
   },
   "outputs": [],
   "source": [
    "parsed = urlparse(west_endpoint)\n",
    "west_netloc = parsed.netloc"
   ]
  },
  {
   "cell_type": "code",
   "execution_count": null,
   "metadata": {
    "collapsed": false
   },
   "outputs": [],
   "source": [
    "# Create the west health check\n",
    "response = cloudformation.create_stack(\n",
    "    StackName=west_hc_stack,\n",
    "    TemplateURL= bucket_base + '/hc.yml',\n",
    "    Parameters=[\n",
    "        {\n",
    "            'ParameterKey': 'APIEndpoint',\n",
    "            'ParameterValue':west_netloc\n",
    "        },\n",
    "        {\n",
    "            'ParameterKey': 'ResourcePath',\n",
    "            'ParameterValue':hc_uri\n",
    "        },\n",
    "        {\n",
    "            'ParameterKey':'Name',\n",
    "            'ParameterValue': 'west'\n",
    "        }\n",
    "    ],\n",
    "    Capabilities=[\n",
    "        'CAPABILITY_IAM'\n",
    "    ]\n",
    ")\n",
    "\n",
    "print response"
   ]
  },
  {
   "cell_type": "code",
   "execution_count": null,
   "metadata": {
    "collapsed": false
   },
   "outputs": [],
   "source": [
    "print 'waiting on create of {}'.format(edge_fn_stack)\n",
    "waiter = cloudformation.get_waiter('stack_create_complete')\n",
    "waiter.wait(\n",
    "    StackName=west_hc_stack\n",
    ")\n",
    "\n",
    "print 'stack created'"
   ]
  },
  {
   "cell_type": "code",
   "execution_count": null,
   "metadata": {
    "collapsed": false
   },
   "outputs": [],
   "source": [
    "response = cloudformation.describe_stacks(\n",
    "    StackName=west_hc_stack\n",
    ")\n",
    "\n",
    "\n",
    "outputs = response['Stacks'][0]['Outputs']\n",
    "west_health_check_id = [d for d in outputs if d['OutputKey'] == 'HealthCheckId'][0]['OutputValue']\n",
    "print west_health_check_id"
   ]
  },
  {
   "cell_type": "markdown",
   "metadata": {},
   "source": [
    "## Lambda Function Modifications\n",
    "\n",
    "At this point you need to go manually edit the edge function code in the AWS console to set the \n",
    "health check IDs and API endpoints in the code. They cannot be injected as environment variables at this time\n",
    "due to limitations with edge functions.\n",
    "\n",
    "Below are the parameters to use:"
   ]
  },
  {
   "cell_type": "code",
   "execution_count": null,
   "metadata": {
    "collapsed": false
   },
   "outputs": [],
   "source": [
    "print \"const primaryHealthCheckId = '{}';\".format(east_health_check_id)\n",
    "print \"const primaryEndpoint = '{}';\".format(east_netloc)\n",
    "print \"const secondaryHealthCheckId = '{}';\".format(west_health_check_id)\n",
    "print \"const secondaryEndpoint = '{}';\".format(west_netloc)"
   ]
  },
  {
   "cell_type": "markdown",
   "metadata": {},
   "source": [
    "### Important Note\n",
    "\n",
    "You need to publish a new version of the lambda function after you modify it."
   ]
  },
  {
   "cell_type": "code",
   "execution_count": null,
   "metadata": {
    "collapsed": false
   },
   "outputs": [],
   "source": [
    "## Make sure to update this!!!!\n",
    "lambda_fn_version = '2'\n",
    "cf_lambda_arn = lambda_arn + ':' + lambda_fn_version\n",
    "print cf_lambda_arn"
   ]
  },
  {
   "cell_type": "markdown",
   "metadata": {},
   "source": [
    "## Get the Cloud Distribution ID"
   ]
  },
  {
   "cell_type": "code",
   "execution_count": null,
   "metadata": {
    "collapsed": true
   },
   "outputs": [],
   "source": [
    "cloudfront_stack_name = 'cf-api-todo'"
   ]
  },
  {
   "cell_type": "code",
   "execution_count": null,
   "metadata": {
    "collapsed": false
   },
   "outputs": [],
   "source": [
    "response = cloudformation.describe_stacks(\n",
    "    StackName=cloudfront_stack_name\n",
    ")\n",
    "\n",
    "print response\n",
    "\n",
    "outputs = response['Stacks'][0]['Outputs']\n",
    "distro_id =  [d for d in outputs if d['OutputKey'] == 'CFDistID'][0]['OutputValue']\n",
    "print distro_id"
   ]
  },
  {
   "cell_type": "code",
   "execution_count": null,
   "metadata": {
    "collapsed": true
   },
   "outputs": [],
   "source": []
  },
  {
   "cell_type": "code",
   "execution_count": null,
   "metadata": {
    "collapsed": false
   },
   "outputs": [],
   "source": [
    "response = cloudfront.get_distribution_config(\n",
    "    Id=distro_id\n",
    ")"
   ]
  },
  {
   "cell_type": "code",
   "execution_count": null,
   "metadata": {
    "collapsed": true
   },
   "outputs": [],
   "source": [
    "etag = response['ETag']\n",
    "config = response['DistributionConfig']"
   ]
  },
  {
   "cell_type": "code",
   "execution_count": null,
   "metadata": {
    "collapsed": false
   },
   "outputs": [],
   "source": [
    "print config['CacheBehaviors']\n",
    "for key in config['CacheBehaviors']:\n",
    "    print key"
   ]
  },
  {
   "cell_type": "code",
   "execution_count": null,
   "metadata": {
    "collapsed": false
   },
   "outputs": [],
   "source": [
    "lambdaAssociation = {'Quantity': 1, 'Items':[{'LambdaFunctionARN':cf_lambda_arn, 'EventType':'origin-request'}]}\n",
    "print lambdaAssociation"
   ]
  },
  {
   "cell_type": "code",
   "execution_count": null,
   "metadata": {
    "collapsed": false
   },
   "outputs": [],
   "source": [
    "cacheBehaviorsItems = config['CacheBehaviors']['Items']\n",
    "for cb in cacheBehaviorsItems:\n",
    "    if cb['PathPattern'] == '/todos/*':\n",
    "        cb['LambdaFunctionAssociations'] = lambdaAssociation"
   ]
  },
  {
   "cell_type": "code",
   "execution_count": null,
   "metadata": {
    "collapsed": false
   },
   "outputs": [],
   "source": [
    "print cacheBehaviorsItems"
   ]
  },
  {
   "cell_type": "code",
   "execution_count": null,
   "metadata": {
    "collapsed": true
   },
   "outputs": [],
   "source": [
    "config['CacheBehaviors']['Items'] = cacheBehaviorsItems"
   ]
  },
  {
   "cell_type": "code",
   "execution_count": null,
   "metadata": {
    "collapsed": false
   },
   "outputs": [],
   "source": [
    "print config"
   ]
  },
  {
   "cell_type": "code",
   "execution_count": null,
   "metadata": {
    "collapsed": false
   },
   "outputs": [],
   "source": [
    "update_response = cloudfront.update_distribution(\n",
    "    DistributionConfig=config,\n",
    "    Id=distro_id,\n",
    "    IfMatch=etag\n",
    ")"
   ]
  },
  {
   "cell_type": "code",
   "execution_count": null,
   "metadata": {
    "collapsed": false
   },
   "outputs": [],
   "source": [
    "update_response"
   ]
  },
  {
   "cell_type": "code",
   "execution_count": null,
   "metadata": {
    "collapsed": true
   },
   "outputs": [],
   "source": []
  }
 ],
 "metadata": {
  "kernelspec": {
   "display_name": "Python 2",
   "language": "python",
   "name": "python2"
  },
  "language_info": {
   "codemirror_mode": {
    "name": "ipython",
    "version": 2
   },
   "file_extension": ".py",
   "mimetype": "text/x-python",
   "name": "python",
   "nbconvert_exporter": "python",
   "pygments_lexer": "ipython2",
   "version": "2.7.12"
  }
 },
 "nbformat": 4,
 "nbformat_minor": 0
}
