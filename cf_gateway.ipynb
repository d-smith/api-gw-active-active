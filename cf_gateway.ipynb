{
 "cells": [
  {
   "cell_type": "markdown",
   "metadata": {},
   "source": [
    "# Cloud Front with API Gateway Origin"
   ]
  },
  {
   "cell_type": "code",
   "execution_count": null,
   "metadata": {
    "collapsed": true
   },
   "outputs": [],
   "source": [
    "# SDK Imports\n",
    "import boto3\n",
    "\n",
    "cformation_east = boto3.client('cloudformation', region_name='us-east-1')\n",
    "cformation_west = boto3.client('cloudformation', region_name='us-west-2')\n",
    "\n",
    "gw_east = boto3.client('apigateway')"
   ]
  },
  {
   "cell_type": "code",
   "execution_count": null,
   "metadata": {
    "collapsed": true
   },
   "outputs": [],
   "source": [
    "service = 'serverless-rest-api-with-dynamodb'\n",
    "stage = 'pp1'"
   ]
  },
  {
   "cell_type": "code",
   "execution_count": null,
   "metadata": {
    "collapsed": true
   },
   "outputs": [],
   "source": [
    "def get_stack_name(service, stage):\n",
    "    return '{}-{}'.format(service,stage)"
   ]
  },
  {
   "cell_type": "code",
   "execution_count": null,
   "metadata": {
    "collapsed": true
   },
   "outputs": [],
   "source": [
    "def get_endpoint(cf_client, stack_name):\n",
    "    response = cf_client.describe_stacks(\n",
    "        StackName=stack_name\n",
    "    )\n",
    "    \n",
    "    outputs = response['Stacks'][0]['Outputs']\n",
    "    endpoint =  [d for d in outputs if d['OutputKey'] == 'ServiceEndpoint'][0]['OutputValue']\n",
    "    return endpoint"
   ]
  },
  {
   "cell_type": "code",
   "execution_count": null,
   "metadata": {
    "collapsed": false
   },
   "outputs": [],
   "source": [
    "east_endpoint = get_endpoint(cformation_east, get_stack_name(service, stage))\n",
    "print east_endpoint"
   ]
  },
  {
   "cell_type": "code",
   "execution_count": null,
   "metadata": {
    "collapsed": true
   },
   "outputs": [],
   "source": [
    "# Create a key and add it to the usage plan?\n",
    "# - create_api_key - need key id output\n",
    "# - you can get the usage plan id and the api id via get_usage_plan and matching the plan with same name\n",
    "#   as the stack\n",
    "# - create_usage_plan_key associates the key to the plan: inputs are plan id, key id"
   ]
  },
  {
   "cell_type": "code",
   "execution_count": null,
   "metadata": {
    "collapsed": false
   },
   "outputs": [],
   "source": [
    "response = gw_east.get_usage_plans()\n",
    "plans = response['items']\n",
    "stack_name = get_stack_name(service, stage)\n",
    "plan =  [d for d in plans if d['name'] == stack_name][0]\n",
    "plan_id = plan['id']\n",
    "print plan_id\n",
    "api_stage = [d for d in plan['apiStages'] if d['stage'] == stage][0]\n",
    "api_id = api_stage['apiId']\n",
    "print api_id"
   ]
  },
  {
   "cell_type": "code",
   "execution_count": null,
   "metadata": {
    "collapsed": false
   },
   "outputs": [],
   "source": [
    "import uuid\n",
    "id = str(uuid.uuid4())\n",
    "#id = id.replace(\"-\",\"\")\n",
    "#id = id[0:20]\n",
    "print id\n",
    "#print len(id)"
   ]
  },
  {
   "cell_type": "code",
   "execution_count": null,
   "metadata": {
    "collapsed": false
   },
   "outputs": [],
   "source": [
    "create_key_response = gw_east.create_api_key(\n",
    "    name='xregion_key',\n",
    "    enabled=True,\n",
    "    generateDistinctId=True,\n",
    "    value=id\n",
    ")\n",
    "\n",
    "print create_key_response"
   ]
  },
  {
   "cell_type": "code",
   "execution_count": null,
   "metadata": {
    "collapsed": false
   },
   "outputs": [],
   "source": [
    "key_id = create_key_response['id']\n",
    "response = gw_east.delete_api_key(\n",
    "    apiKey=key_id\n",
    ")\n",
    "\n",
    "print response"
   ]
  },
  {
   "cell_type": "code",
   "execution_count": null,
   "metadata": {
    "collapsed": true
   },
   "outputs": [],
   "source": []
  }
 ],
 "metadata": {
  "kernelspec": {
   "display_name": "Python 2",
   "language": "python",
   "name": "python2"
  },
  "language_info": {
   "codemirror_mode": {
    "name": "ipython",
    "version": 2
   },
   "file_extension": ".py",
   "mimetype": "text/x-python",
   "name": "python",
   "nbconvert_exporter": "python",
   "pygments_lexer": "ipython2",
   "version": "2.7.12"
  }
 },
 "nbformat": 4,
 "nbformat_minor": 0
}
