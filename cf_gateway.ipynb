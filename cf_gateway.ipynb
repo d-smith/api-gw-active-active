{
 "cells": [
  {
   "cell_type": "markdown",
   "metadata": {},
   "source": [
    "# Cloud Front with API Gateway Origin\n",
    "\n",
    "This notebook can be used to configure an active-standby two region serverless API project. This includes the \n",
    "following:\n",
    "\n",
    "* Creation of a common API key that can be installed in both regions. This is needed to ensure transparent\n",
    "failover from the perspective of the service consumer."
   ]
  },
  {
   "cell_type": "markdown",
   "metadata": {},
   "source": [
    "## Library Code"
   ]
  },
  {
   "cell_type": "code",
   "execution_count": null,
   "metadata": {
    "collapsed": true
   },
   "outputs": [],
   "source": [
    "# SDK Imports\n",
    "import boto3\n",
    "\n",
    "cformation_east = boto3.client('cloudformation', region_name='us-east-1')\n",
    "cformation_west = boto3.client('cloudformation', region_name='us-west-2')\n",
    "\n",
    "gw_east = boto3.client('apigateway', region_name='us-east-1')\n",
    "gw_west = boto3.client('apigateway', region_name='us-west-2')"
   ]
  },
  {
   "cell_type": "code",
   "execution_count": null,
   "metadata": {
    "collapsed": true
   },
   "outputs": [],
   "source": [
    "def get_stack_name(service, stage):\n",
    "    return '{}-{}'.format(service,stage)"
   ]
  },
  {
   "cell_type": "code",
   "execution_count": null,
   "metadata": {
    "collapsed": true
   },
   "outputs": [],
   "source": [
    "def get_endpoint(cf_client, stack_name):\n",
    "    response = cf_client.describe_stacks(\n",
    "        StackName=stack_name\n",
    "    )\n",
    "    \n",
    "    outputs = response['Stacks'][0]['Outputs']\n",
    "    endpoint =  [d for d in outputs if d['OutputKey'] == 'ServiceEndpoint'][0]['OutputValue']\n",
    "    return endpoint"
   ]
  },
  {
   "cell_type": "code",
   "execution_count": null,
   "metadata": {
    "collapsed": true
   },
   "outputs": [],
   "source": [
    "def get_plan_and_api_ids(gw_client, service, stage):\n",
    "    response = gw_client.get_usage_plans()\n",
    "    plans = response['items']\n",
    "    stack_name = get_stack_name(service, stage)\n",
    "    plan =  [d for d in plans if d['name'] == stack_name][0]\n",
    "    plan_id = plan['id']\n",
    "    api_stage = [d for d in plan['apiStages'] if d['stage'] == stage][0]\n",
    "    api_id = api_stage['apiId']\n",
    "    return plan_id, api_id\n",
    "    "
   ]
  },
  {
   "cell_type": "code",
   "execution_count": null,
   "metadata": {
    "collapsed": true
   },
   "outputs": [],
   "source": [
    "import uuid\n",
    "\n",
    "def generate_api_key():\n",
    "    return str(uuid.uuid4())"
   ]
  },
  {
   "cell_type": "code",
   "execution_count": null,
   "metadata": {
    "collapsed": true
   },
   "outputs": [],
   "source": [
    "def create_api_key_and_add_to_plan(gw_client, key_name, key_val, plan_id):\n",
    "   \n",
    "    create_key_response = gw_client.create_api_key(\n",
    "        name=key_name,\n",
    "        enabled=True,\n",
    "        generateDistinctId=True,\n",
    "        value=key_val\n",
    "    )\n",
    "    \n",
    "    key_id = create_key_response['id']\n",
    "    \n",
    "    plan_key_response = gw_client.create_usage_plan_key(\n",
    "        usagePlanId=plan_id,\n",
    "        keyId=key_id,\n",
    "        keyType='API_KEY'\n",
    "    )\n",
    "    \n",
    "    return id, key_id"
   ]
  },
  {
   "cell_type": "code",
   "execution_count": null,
   "metadata": {
    "collapsed": true
   },
   "outputs": [],
   "source": [
    "def form_s3_url_prefix(region):\n",
    "    prefix = ''\n",
    "    if region == 'us-east-1':\n",
    "        prefix = 'https://s3.amazonaws.com'\n",
    "    else:\n",
    "        prefix = 'https://s3-' + region + '.amazonaws.com'\n",
    "    return prefix"
   ]
  },
  {
   "cell_type": "code",
   "execution_count": null,
   "metadata": {
    "collapsed": true
   },
   "outputs": [],
   "source": [
    "# Create a key and add it to the usage plan?\n",
    "# - create_api_key - need key id output\n",
    "# - you can get the usage plan id and the api id via get_usage_plan and matching the plan with same name\n",
    "#   as the stack\n",
    "# - create_usage_plan_key associates the key to the plan: inputs are plan id, key id"
   ]
  },
  {
   "cell_type": "markdown",
   "metadata": {},
   "source": [
    "## Application Context"
   ]
  },
  {
   "cell_type": "code",
   "execution_count": null,
   "metadata": {
    "collapsed": true
   },
   "outputs": [],
   "source": [
    "service = 'serverless-rest-api-with-dynamodb'\n",
    "stage = 's1'\n",
    "cross_region_key_name = 'xregion_key'\n",
    "api_stack_name = 'cf-api-todo'\n",
    "bucket_name = 'xtds-cf-templates'\n",
    "primary_region = 'us-east-1'"
   ]
  },
  {
   "cell_type": "code",
   "execution_count": null,
   "metadata": {
    "collapsed": false
   },
   "outputs": [],
   "source": [
    "stack_name = get_stack_name(service, stage)\n",
    "east_endpoint = get_endpoint(cformation_east, stack_name)\n",
    "print east_endpoint\n",
    "\n",
    "west_endpoint = get_endpoint(cformation_west, stack_name)\n",
    "print west_endpoint"
   ]
  },
  {
   "cell_type": "markdown",
   "metadata": {},
   "source": [
    "## Key Synchronization\n",
    "\n",
    "This part of the notebook creates a common key for the gateway fronted app in both regions."
   ]
  },
  {
   "cell_type": "code",
   "execution_count": null,
   "metadata": {
    "collapsed": false
   },
   "outputs": [],
   "source": [
    "key_val = generate_api_key()\n",
    "print key_val"
   ]
  },
  {
   "cell_type": "code",
   "execution_count": null,
   "metadata": {
    "collapsed": false
   },
   "outputs": [],
   "source": [
    "# Create east key and add to plan\n",
    "plan_id_east, api_id_east = get_plan_and_api_ids(gw_east, service, stage)\n",
    "key_val_east, key_id_east = create_api_key_and_add_to_plan(gw_east, cross_region_key_name, key_val, plan_id_east)"
   ]
  },
  {
   "cell_type": "code",
   "execution_count": null,
   "metadata": {
    "collapsed": true
   },
   "outputs": [],
   "source": [
    "plan_id_west, api_id_west = get_plan_and_api_ids(gw_west, service, stage)\n",
    "key_val_west, key_id_west = create_api_key_and_add_to_plan(gw_west, cross_region_key_name, key_val, plan_id_west)"
   ]
  },
  {
   "cell_type": "markdown",
   "metadata": {},
   "source": [
    "## Custom Domain Names\n",
    "\n",
    "Now that API gateway deployments can be tagged as regional, we are free from the tyranny of cloud front certificate\n",
    "restrictions that prevented us from registering certificates with the same domain name in two different regions.\n",
    "\n",
    "With regional API deployments, we can associated the same SSL cert with the endpoints in both regions, and use the certificate domain as the route 53 alias to define failover or weight policies (or any others we desire)."
   ]
  },
  {
   "cell_type": "code",
   "execution_count": null,
   "metadata": {
    "collapsed": true
   },
   "outputs": [],
   "source": [
    "domain_name = 'superapi.elcaro.net'"
   ]
  },
  {
   "cell_type": "markdown",
   "metadata": {},
   "source": [
    "### East"
   ]
  },
  {
   "cell_type": "code",
   "execution_count": null,
   "metadata": {
    "collapsed": false
   },
   "outputs": [],
   "source": [
    "# We need to select the certificate assocaiated with out domain name\n",
    "acm_client = boto3.client('acm')"
   ]
  },
  {
   "cell_type": "code",
   "execution_count": null,
   "metadata": {
    "collapsed": false
   },
   "outputs": [],
   "source": [
    "response = acm_client.list_certificates()\n",
    "\n",
    "summaryList = response['CertificateSummaryList']\n",
    "print summaryList\n",
    "\n",
    "domain_cert = [x for x in summaryList if x['DomainName'] == domain_name][0]\n",
    "print domain_cert\n",
    "\n",
    "cert_arn = domain_cert['CertificateArn']\n",
    "print cert_arn"
   ]
  },
  {
   "cell_type": "code",
   "execution_count": null,
   "metadata": {
    "collapsed": false
   },
   "outputs": [],
   "source": [
    "# Create the domain name\n",
    "response = gw_east.create_domain_name(\n",
    "    domainName=domain_name,\n",
    "    regionalCertificateArn=cert_arn,\n",
    "    endpointConfiguration={\n",
    "        'types': [\n",
    "            'REGIONAL'\n",
    "        ]\n",
    "    }\n",
    ")\n",
    "\n",
    "print response"
   ]
  },
  {
   "cell_type": "code",
   "execution_count": null,
   "metadata": {
    "collapsed": false
   },
   "outputs": [],
   "source": [
    "regional_domain_name = response['regionalDomainName']\n",
    "print regional_domain_name"
   ]
  },
  {
   "cell_type": "markdown",
   "metadata": {},
   "source": [
    "## Gateway as Cloud Front Origin\n",
    "\n",
    "### Create Cloud Front Distribution"
   ]
  },
  {
   "cell_type": "code",
   "execution_count": null,
   "metadata": {
    "collapsed": true
   },
   "outputs": [],
   "source": [
    "# Config specific to cloud front\n",
    "hosted_zone_name = 'elcaro.net.'\n",
    "domain_name = '*.elcaro.net'\n",
    "api_cname = 'superapi.elcaro.net'"
   ]
  },
  {
   "cell_type": "code",
   "execution_count": null,
   "metadata": {
    "collapsed": false
   },
   "outputs": [],
   "source": [
    "acmClient = boto3.client('acm')\n",
    "response = acmClient.list_certificates()\n",
    "print response, '\\n'\n",
    "\n",
    "certificateArn = ''\n",
    "\n",
    "for c in response['CertificateSummaryList']:\n",
    "    print c['DomainName']\n",
    "    if c['DomainName'] == domain_name:\n",
    "        certificateArn = c['CertificateArn']\n",
    "        \n",
    "if certificateArn == '':\n",
    "    print 'No Certificate Available in this Region for {}'.format(domain_name)\n",
    "else:\n",
    "    print 'certificate arn for', domain_name, certificateArn"
   ]
  },
  {
   "cell_type": "code",
   "execution_count": null,
   "metadata": {
    "collapsed": false
   },
   "outputs": [],
   "source": [
    "from urlparse import urlparse\n",
    "parsed_uri = urlparse(east_endpoint)\n",
    "api_domain = parsed_uri.netloc\n",
    "bucket_base = form_s3_url_prefix(primary_region) + '/' + bucket_name"
   ]
  },
  {
   "cell_type": "code",
   "execution_count": null,
   "metadata": {
    "collapsed": false
   },
   "outputs": [],
   "source": [
    "\n",
    "\n",
    "response = cformation_east.create_stack(\n",
    "    StackName=api_stack_name,\n",
    "    TemplateURL= bucket_base + '/cdn.yml',\n",
    "    Parameters=[\n",
    "        {\n",
    "            'ParameterKey': 'APIEndpoint',\n",
    "            'ParameterValue':api_domain\n",
    "        },\n",
    "        {\n",
    "            'ParameterKey': 'APIStage',\n",
    "            'ParameterValue':stage\n",
    "        },\n",
    "        {\n",
    "            'ParameterKey': 'CName',\n",
    "            'ParameterValue':api_cname\n",
    "        },\n",
    "        {\n",
    "            'ParameterKey': 'CertificateArn',\n",
    "            'ParameterValue': certificateArn\n",
    "        }\n",
    "    ]\n",
    ")\n",
    "\n",
    "print response"
   ]
  },
  {
   "cell_type": "code",
   "execution_count": null,
   "metadata": {
    "collapsed": false
   },
   "outputs": [],
   "source": [
    "print 'waiting on create of {}'.format(api_stack_name)\n",
    "waiter = cformation_east.get_waiter('stack_create_complete')\n",
    "waiter.wait(\n",
    "    StackName=api_stack_name\n",
    ")\n",
    "\n",
    "print 'stack created'"
   ]
  },
  {
   "cell_type": "code",
   "execution_count": null,
   "metadata": {
    "collapsed": false
   },
   "outputs": [],
   "source": [
    "# Describe the cloud front stack\n",
    "response = cformation_east.describe_stacks(\n",
    "    StackName=api_stack_name\n",
    ")\n"
   ]
  },
  {
   "cell_type": "code",
   "execution_count": null,
   "metadata": {
    "collapsed": false
   },
   "outputs": [],
   "source": [
    "# Extract the cloud front domain from the stack output\n",
    "print response\n",
    "outputs = response['Stacks'][0]['Outputs']\n",
    "cf_domain =  [d for d in outputs if d['OutputKey'] == 'CFDomain'][0]['OutputValue']\n",
    "print cf_domain"
   ]
  },
  {
   "cell_type": "markdown",
   "metadata": {},
   "source": [
    "### Create the Route 53 for the CName"
   ]
  },
  {
   "cell_type": "code",
   "execution_count": null,
   "metadata": {
    "collapsed": false
   },
   "outputs": [],
   "source": [
    "# Now create a route 53 alias\n",
    "response = cformation_east.create_stack(\n",
    "    StackName=api_stack_name + '-r53',\n",
    "    TemplateURL= bucket_base + '/route53alias.yml',\n",
    "    Parameters=[\n",
    "        {\n",
    "            'ParameterKey': 'HostedZoneName',\n",
    "            'ParameterValue':hosted_zone_name\n",
    "        },\n",
    "        {\n",
    "            'ParameterKey': 'RecordSetDomainName',\n",
    "            'ParameterValue':api_cname\n",
    "        },\n",
    "        {\n",
    "            'ParameterKey': 'CloudFrontDomain',\n",
    "            'ParameterValue':cf_domain\n",
    "        }\n",
    "    ]\n",
    ")\n",
    "\n",
    "print response"
   ]
  },
  {
   "cell_type": "code",
   "execution_count": null,
   "metadata": {
    "collapsed": false
   },
   "outputs": [],
   "source": [
    "print 'waiting on create of {}-r53'.format(api_stack_name)\n",
    "waiter = cformation_east.get_waiter('stack_create_complete')\n",
    "waiter.wait(\n",
    "    StackName=api_stack_name + '-r53'\n",
    ")\n",
    "\n",
    "print 'stack created'"
   ]
  },
  {
   "cell_type": "markdown",
   "metadata": {},
   "source": [
    "### Curl Against the CName"
   ]
  },
  {
   "cell_type": "code",
   "execution_count": null,
   "metadata": {
    "collapsed": false
   },
   "outputs": [],
   "source": [
    "# Curl away, chuckles...\n",
    "list_uri = 'https://' + api_cname + '/todos/'\n",
    "post_uri = list_uri\n",
    "print list_uri\n",
    "\n",
    "health_uri='https://' + api_cname + '/todos/health'\n",
    "print health_uri\n",
    "\n",
    "# Note - if you don't have key_val from above you can uncomment this and \n",
    "# set it directly.\n",
    "#key_val = '965a5060-8674-4e25-ad8b-7fca24a05249'"
   ]
  },
  {
   "cell_type": "code",
   "execution_count": null,
   "metadata": {
    "collapsed": false
   },
   "outputs": [],
   "source": [
    "%%bash -s \"$list_uri\" \"$key_val\"\n",
    "curl -H x-api-key:$2 $1"
   ]
  },
  {
   "cell_type": "code",
   "execution_count": null,
   "metadata": {
    "collapsed": false
   },
   "outputs": [],
   "source": [
    "%%bash -s \"$list_uri\" \"$key_val\"\n",
    "curl -X POST -H x-api-key:$2 $1 --data '{ \"text\": \"Research fear of clowns\" }'"
   ]
  },
  {
   "cell_type": "code",
   "execution_count": null,
   "metadata": {
    "collapsed": false
   },
   "outputs": [],
   "source": [
    "%%bash -s \"$health_uri\"\n",
    "curl $1"
   ]
  },
  {
   "cell_type": "markdown",
   "metadata": {},
   "source": [
    "## Route 53 Health Check"
   ]
  },
  {
   "cell_type": "code",
   "execution_count": null,
   "metadata": {
    "collapsed": false
   },
   "outputs": [],
   "source": [
    "import boto3\n",
    "import uuid\n",
    "\n",
    "client = boto3.client('route53')\n",
    "\n",
    "\n",
    "response = client.create_health_check(\n",
    "    \n",
    "    CallerReference=str(uuid.uuid4()),\n",
    "    HealthCheckConfig={\n",
    "        'Type':'HTTPS',\n",
    "        'ResourcePath':'/todos/health',\n",
    "        'FullyQualifiedDomainName':api_cname\n",
    "    }\n",
    ")\n",
    "\n",
    "print response"
   ]
  },
  {
   "cell_type": "code",
   "execution_count": null,
   "metadata": {
    "collapsed": false
   },
   "outputs": [],
   "source": [
    "hc_id = response['HealthCheck']['Id']\n",
    "print 'health check id: {}'.format(hc_id)"
   ]
  },
  {
   "cell_type": "code",
   "execution_count": null,
   "metadata": {
    "collapsed": false
   },
   "outputs": [],
   "source": [
    "# Now tag the health check name\n",
    "tag_resp = client.change_tags_for_resource(\n",
    "    ResourceType='healthcheck',\n",
    "    ResourceId=hc_id,\n",
    "    AddTags=[\n",
    "        {\n",
    "            'Key':'Name',\n",
    "            'Value':api_cname\n",
    "        },\n",
    "    ]\n",
    ")\n",
    "\n",
    "print tag_resp"
   ]
  },
  {
   "cell_type": "code",
   "execution_count": null,
   "metadata": {
    "collapsed": false
   },
   "outputs": [],
   "source": [
    "hc_resp = client.get_health_check_status(\n",
    "    HealthCheckId=hc_id\n",
    ")\n",
    "\n",
    "print hc_resp"
   ]
  },
  {
   "cell_type": "markdown",
   "metadata": {},
   "source": [
    "## Cloud Formation Update - Region Route Away\n",
    "\n",
    "This section shows how to update the api origin associated with the cloud front fronting the (cloud front\n",
    "wrapping) the API endpoint."
   ]
  },
  {
   "cell_type": "code",
   "execution_count": null,
   "metadata": {
    "collapsed": true
   },
   "outputs": [],
   "source": [
    "route_away_endpoint = west_endpoint"
   ]
  },
  {
   "cell_type": "code",
   "execution_count": null,
   "metadata": {
    "collapsed": false
   },
   "outputs": [],
   "source": [
    "from urlparse import urlparse\n",
    "parsed_uri = urlparse(route_away_endpoint)\n",
    "route_away_origin = parsed_uri.netloc\n",
    "print route_away_origin"
   ]
  },
  {
   "cell_type": "code",
   "execution_count": null,
   "metadata": {
    "collapsed": false
   },
   "outputs": [],
   "source": [
    "response = cformation_east.update_stack(\n",
    "    StackName=api_stack_name,\n",
    "    UsePreviousTemplate=True,\n",
    "    Parameters=[\n",
    "        {\n",
    "            'ParameterKey': 'APIEndpoint',\n",
    "            'ParameterValue':route_away_origin\n",
    "        },\n",
    "        {\n",
    "            'ParameterKey': 'APIStage',\n",
    "            'UsePreviousValue':True\n",
    "        },\n",
    "        {\n",
    "            'ParameterKey': 'CName',\n",
    "            'UsePreviousValue':True\n",
    "        },\n",
    "        {\n",
    "            'ParameterKey': 'CertificateArn',\n",
    "            'UsePreviousValue': True\n",
    "        }\n",
    "    ]\n",
    ")\n",
    "\n",
    "print response"
   ]
  },
  {
   "cell_type": "code",
   "execution_count": null,
   "metadata": {
    "collapsed": false
   },
   "outputs": [],
   "source": [
    "print 'waiting on update of {}'.format(api_stack_name)\n",
    "waiter = cformation_east.get_waiter('stack_update_complete')\n",
    "waiter.wait(\n",
    "    StackName=api_stack_name\n",
    ")\n",
    "\n",
    "print 'stack updated'"
   ]
  },
  {
   "cell_type": "code",
   "execution_count": null,
   "metadata": {
    "collapsed": true
   },
   "outputs": [],
   "source": [
    "# May need to invalidate the cache here."
   ]
  },
  {
   "cell_type": "markdown",
   "metadata": {},
   "source": [
    "## Clean Up\n",
    "\n",
    "Clean up stuff  - useful while building this book"
   ]
  },
  {
   "cell_type": "code",
   "execution_count": null,
   "metadata": {
    "collapsed": true
   },
   "outputs": [],
   "source": [
    "def cleanup_key_and_plan(gw_client, key_id, plan_id):\n",
    "    response = gw_client.delete_usage_plan_key(\n",
    "        usagePlanId=plan_id,\n",
    "        keyId=key_id\n",
    "    )\n",
    "\n",
    "    print response\n",
    "    \n",
    "    response = gw_client.delete_api_key(\n",
    "        apiKey=key_id\n",
    "    )\n",
    "\n",
    "    print response"
   ]
  },
  {
   "cell_type": "code",
   "execution_count": null,
   "metadata": {
    "collapsed": false
   },
   "outputs": [],
   "source": [
    "cleanup_key_and_plan(gw_east, key_id_east, plan_id_east)\n",
    "cleanup_key_and_plan(gw_west, key_id_west, plan_id_west)"
   ]
  },
  {
   "cell_type": "code",
   "execution_count": null,
   "metadata": {
    "collapsed": true
   },
   "outputs": [],
   "source": []
  }
 ],
 "metadata": {
  "kernelspec": {
   "display_name": "Python 2",
   "language": "python",
   "name": "python2"
  },
  "language_info": {
   "codemirror_mode": {
    "name": "ipython",
    "version": 2
   },
   "file_extension": ".py",
   "mimetype": "text/x-python",
   "name": "python",
   "nbconvert_exporter": "python",
   "pygments_lexer": "ipython2",
   "version": "2.7.12"
  }
 },
 "nbformat": 4,
 "nbformat_minor": 0
}
