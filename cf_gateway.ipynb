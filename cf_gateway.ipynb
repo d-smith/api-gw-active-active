{
 "cells": [
  {
   "cell_type": "markdown",
   "metadata": {},
   "source": [
    "# Cloud Front with API Gateway Origin\n",
    "\n",
    "This notebook can be used to configure an active-standby two region serverless API project. This includes the \n",
    "following:\n",
    "\n",
    "* Creation of a common API key that can be installed in both regions. This is needed to ensure transparent\n",
    "failover from the perspective of the service consumer."
   ]
  },
  {
   "cell_type": "markdown",
   "metadata": {},
   "source": [
    "## Library Code"
   ]
  },
  {
   "cell_type": "code",
   "execution_count": null,
   "metadata": {
    "collapsed": true
   },
   "outputs": [],
   "source": [
    "# SDK Imports\n",
    "import boto3\n",
    "\n",
    "cformation_east = boto3.client('cloudformation', region_name='us-east-1')\n",
    "cformation_west = boto3.client('cloudformation', region_name='us-west-2')\n",
    "\n",
    "gw_east = boto3.client('apigateway', region_name='us-east-1')\n",
    "gw_west = boto3.client('apigateway', region_name='us-west-2')"
   ]
  },
  {
   "cell_type": "code",
   "execution_count": null,
   "metadata": {
    "collapsed": true
   },
   "outputs": [],
   "source": [
    "def get_stack_name(service, stage):\n",
    "    return '{}-{}'.format(service,stage)"
   ]
  },
  {
   "cell_type": "code",
   "execution_count": null,
   "metadata": {
    "collapsed": true
   },
   "outputs": [],
   "source": [
    "def get_endpoint(cf_client, stack_name):\n",
    "    response = cf_client.describe_stacks(\n",
    "        StackName=stack_name\n",
    "    )\n",
    "    \n",
    "    outputs = response['Stacks'][0]['Outputs']\n",
    "    endpoint =  [d for d in outputs if d['OutputKey'] == 'ServiceEndpoint'][0]['OutputValue']\n",
    "    return endpoint"
   ]
  },
  {
   "cell_type": "code",
   "execution_count": null,
   "metadata": {
    "collapsed": true
   },
   "outputs": [],
   "source": [
    "def get_plan_and_api_ids(gw_client, service, stage):\n",
    "    response = gw_client.get_usage_plans()\n",
    "    plans = response['items']\n",
    "    stack_name = get_stack_name(service, stage)\n",
    "    plan =  [d for d in plans if d['name'] == stack_name][0]\n",
    "    plan_id = plan['id']\n",
    "    api_stage = [d for d in plan['apiStages'] if d['stage'] == stage][0]\n",
    "    api_id = api_stage['apiId']\n",
    "    return plan_id, api_id\n",
    "    "
   ]
  },
  {
   "cell_type": "code",
   "execution_count": null,
   "metadata": {
    "collapsed": true
   },
   "outputs": [],
   "source": [
    "import uuid\n",
    "\n",
    "def generate_api_key():\n",
    "    return str(uuid.uuid4())"
   ]
  },
  {
   "cell_type": "code",
   "execution_count": null,
   "metadata": {
    "collapsed": true
   },
   "outputs": [],
   "source": [
    "def create_api_key_and_add_to_plan(gw_client, key_name, key_val, plan_id):\n",
    "   \n",
    "    create_key_response = gw_client.create_api_key(\n",
    "        name=key_name,\n",
    "        enabled=True,\n",
    "        generateDistinctId=True,\n",
    "        value=key_val\n",
    "    )\n",
    "    \n",
    "    key_id = create_key_response['id']\n",
    "    \n",
    "    plan_key_response = gw_client.create_usage_plan_key(\n",
    "        usagePlanId=plan_id,\n",
    "        keyId=key_id,\n",
    "        keyType='API_KEY'\n",
    "    )\n",
    "    \n",
    "    return id, key_id"
   ]
  },
  {
   "cell_type": "code",
   "execution_count": null,
   "metadata": {
    "collapsed": true
   },
   "outputs": [],
   "source": [
    "# Create a key and add it to the usage plan?\n",
    "# - create_api_key - need key id output\n",
    "# - you can get the usage plan id and the api id via get_usage_plan and matching the plan with same name\n",
    "#   as the stack\n",
    "# - create_usage_plan_key associates the key to the plan: inputs are plan id, key id"
   ]
  },
  {
   "cell_type": "markdown",
   "metadata": {},
   "source": [
    "## Application Context"
   ]
  },
  {
   "cell_type": "code",
   "execution_count": null,
   "metadata": {
    "collapsed": true
   },
   "outputs": [],
   "source": [
    "service = 'serverless-rest-api-with-dynamodb'\n",
    "stage = 'pp1'\n",
    "cross_region_key_name = 'xregion_key'"
   ]
  },
  {
   "cell_type": "code",
   "execution_count": null,
   "metadata": {
    "collapsed": false
   },
   "outputs": [],
   "source": [
    "stack_name = get_stack_name(service, stage)\n",
    "east_endpoint = get_endpoint(cformation_east, stack_name)\n",
    "print east_endpoint\n",
    "\n",
    "west_endpoint = get_endpoint(cformation_west, stack_name)\n",
    "print west_endpoint"
   ]
  },
  {
   "cell_type": "markdown",
   "metadata": {},
   "source": [
    "## Key Synchronization\n",
    "\n",
    "This part of the notebook creates a common key for the gateway fronted app in both regions."
   ]
  },
  {
   "cell_type": "code",
   "execution_count": null,
   "metadata": {
    "collapsed": false
   },
   "outputs": [],
   "source": [
    "key_val = generate_api_key()\n",
    "print key_val"
   ]
  },
  {
   "cell_type": "code",
   "execution_count": null,
   "metadata": {
    "collapsed": false
   },
   "outputs": [],
   "source": [
    "# Create east key and add to plan\n",
    "plan_id_east, api_id_east = get_plan_and_api_ids(gw_east, service, stage)\n",
    "key_val_east, key_id_east = create_api_key_and_add_to_plan(gw_east, cross_region_key_name, key_val, plan_id_east)"
   ]
  },
  {
   "cell_type": "code",
   "execution_count": null,
   "metadata": {
    "collapsed": true
   },
   "outputs": [],
   "source": [
    "plan_id_west, api_id_west = get_plan_and_api_ids(gw_west, service, stage)\n",
    "key_val_west, key_id_west = create_api_key_and_add_to_plan(gw_west, cross_region_key_name, key_val, plan_id_west)"
   ]
  },
  {
   "cell_type": "markdown",
   "metadata": {},
   "source": [
    "## Gateway as Cloud Front Origin"
   ]
  },
  {
   "cell_type": "code",
   "execution_count": null,
   "metadata": {
    "collapsed": true
   },
   "outputs": [],
   "source": [
    "# Config specific to cloud front\n",
    "domain_name = '*.elcaro.net'"
   ]
  },
  {
   "cell_type": "code",
   "execution_count": null,
   "metadata": {
    "collapsed": false
   },
   "outputs": [],
   "source": [
    "acmClient = boto3.client('acm')\n",
    "response = acmClient.list_certificates()\n",
    "print response, '\\n'\n",
    "\n",
    "certificateArn = ''\n",
    "\n",
    "for c in response['CertificateSummaryList']:\n",
    "    print c['DomainName']\n",
    "    if c['DomainName'] == domain_name:\n",
    "        certificateArn = c['CertificateArn']\n",
    "        \n",
    "if certificateArn == '':\n",
    "    print 'No Certificate Available in this Region for {}'.format(domain_name)\n",
    "else:\n",
    "    print 'certificate arn for', domain_name, certificateArn"
   ]
  },
  {
   "cell_type": "markdown",
   "metadata": {},
   "source": [
    "## Clean Up\n",
    "\n",
    "Clean up stuff  - useful while building this book"
   ]
  },
  {
   "cell_type": "code",
   "execution_count": null,
   "metadata": {
    "collapsed": true
   },
   "outputs": [],
   "source": [
    "def cleanup_key_and_plan(gw_client, key_id, plan_id):\n",
    "    response = gw_client.delete_usage_plan_key(\n",
    "        usagePlanId=plan_id,\n",
    "        keyId=key_id\n",
    "    )\n",
    "\n",
    "    print response\n",
    "    \n",
    "    response = gw_client.delete_api_key(\n",
    "        apiKey=key_id\n",
    "    )\n",
    "\n",
    "    print response"
   ]
  },
  {
   "cell_type": "code",
   "execution_count": null,
   "metadata": {
    "collapsed": false
   },
   "outputs": [],
   "source": [
    "cleanup_key_and_plan(gw_east, key_id_east, plan_id_east)\n",
    "cleanup_key_and_plan(gw_west, key_id_west, plan_id_west)"
   ]
  },
  {
   "cell_type": "code",
   "execution_count": null,
   "metadata": {
    "collapsed": true
   },
   "outputs": [],
   "source": []
  }
 ],
 "metadata": {
  "kernelspec": {
   "display_name": "Python 2",
   "language": "python",
   "name": "python2"
  },
  "language_info": {
   "codemirror_mode": {
    "name": "ipython",
    "version": 2
   },
   "file_extension": ".py",
   "mimetype": "text/x-python",
   "name": "python",
   "nbconvert_exporter": "python",
   "pygments_lexer": "ipython2",
   "version": "2.7.12"
  }
 },
 "nbformat": 4,
 "nbformat_minor": 0
}
