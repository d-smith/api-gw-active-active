{
 "cells": [
  {
   "cell_type": "markdown",
   "metadata": {},
   "source": [
    "# Active/Active Serverless App with Route 53 Weighted Routing\n",
    "\n",
    "This notebook can be used to configure an active-standby two region serverless API project. This includes the \n",
    "following:\n",
    "\n",
    "* Creation of a common API key that can be installed in both regions. This is needed to ensure transparent\n",
    "request routing from the perspective of the service consumer.\n",
    "* Addition of custom domain names to each of the regional API gateway apps\n",
    "* Creation of route 53 cnames for the regional endpoints, and a weighted routing policy integrated with\n",
    "route53 health checks"
   ]
  },
  {
   "cell_type": "markdown",
   "metadata": {},
   "source": [
    "## Library Code"
   ]
  },
  {
   "cell_type": "code",
   "execution_count": null,
   "metadata": {
    "collapsed": true
   },
   "outputs": [],
   "source": [
    "# SDK Imports\n",
    "import boto3\n",
    "\n",
    "cformation_east = boto3.client('cloudformation', region_name='us-east-1')\n",
    "cformation_west = boto3.client('cloudformation', region_name='us-west-2')\n",
    "\n",
    "gw_east = boto3.client('apigateway', region_name='us-east-1')\n",
    "gw_west = boto3.client('apigateway', region_name='us-west-2')"
   ]
  },
  {
   "cell_type": "code",
   "execution_count": null,
   "metadata": {
    "collapsed": true
   },
   "outputs": [],
   "source": [
    "def get_stack_name(service, stage):\n",
    "    return '{}-{}'.format(service,stage)"
   ]
  },
  {
   "cell_type": "code",
   "execution_count": null,
   "metadata": {
    "collapsed": true
   },
   "outputs": [],
   "source": [
    "def get_endpoint(cf_client, stack_name):\n",
    "    response = cf_client.describe_stacks(\n",
    "        StackName=stack_name\n",
    "    )\n",
    "    \n",
    "    outputs = response['Stacks'][0]['Outputs']\n",
    "    endpoint =  [d for d in outputs if d['OutputKey'] == 'ServiceEndpoint'][0]['OutputValue']\n",
    "    return endpoint"
   ]
  },
  {
   "cell_type": "code",
   "execution_count": null,
   "metadata": {
    "collapsed": true
   },
   "outputs": [],
   "source": [
    "def get_plan_and_api_ids(gw_client, service, stage):\n",
    "    response = gw_client.get_usage_plans()\n",
    "    plans = response['items']\n",
    "    stack_name = get_stack_name(service, stage)\n",
    "    plan =  [d for d in plans if d['name'] == stack_name][0]\n",
    "    plan_id = plan['id']\n",
    "    api_stage = [d for d in plan['apiStages'] if d['stage'] == stage][0]\n",
    "    api_id = api_stage['apiId']\n",
    "    return plan_id, api_id\n",
    "    "
   ]
  },
  {
   "cell_type": "code",
   "execution_count": null,
   "metadata": {
    "collapsed": true
   },
   "outputs": [],
   "source": [
    "import uuid\n",
    "\n",
    "def generate_api_key():\n",
    "    return str(uuid.uuid4())"
   ]
  },
  {
   "cell_type": "code",
   "execution_count": null,
   "metadata": {
    "collapsed": true
   },
   "outputs": [],
   "source": [
    "def create_api_key_and_add_to_plan(gw_client, key_name, key_val, plan_id):\n",
    "   \n",
    "    create_key_response = gw_client.create_api_key(\n",
    "        name=key_name,\n",
    "        enabled=True,\n",
    "        generateDistinctId=True,\n",
    "        value=key_val\n",
    "    )\n",
    "    \n",
    "    key_id = create_key_response['id']\n",
    "    \n",
    "    plan_key_response = gw_client.create_usage_plan_key(\n",
    "        usagePlanId=plan_id,\n",
    "        keyId=key_id,\n",
    "        keyType='API_KEY'\n",
    "    )\n",
    "    \n",
    "    return id, key_id"
   ]
  },
  {
   "cell_type": "code",
   "execution_count": null,
   "metadata": {
    "collapsed": true
   },
   "outputs": [],
   "source": [
    "def form_s3_url_prefix(region):\n",
    "    prefix = ''\n",
    "    if region == 'us-east-1':\n",
    "        prefix = 'https://s3.amazonaws.com'\n",
    "    else:\n",
    "        prefix = 'https://s3-' + region + '.amazonaws.com'\n",
    "    return prefix"
   ]
  },
  {
   "cell_type": "code",
   "execution_count": null,
   "metadata": {
    "collapsed": true
   },
   "outputs": [],
   "source": [
    "# Create a key and add it to the usage plan?\n",
    "# - create_api_key - need key id output\n",
    "# - you can get the usage plan id and the api id via get_usage_plan and matching the plan with same name\n",
    "#   as the stack\n",
    "# - create_usage_plan_key associates the key to the plan: inputs are plan id, key id"
   ]
  },
  {
   "cell_type": "markdown",
   "metadata": {},
   "source": [
    "## Application Context"
   ]
  },
  {
   "cell_type": "code",
   "execution_count": null,
   "metadata": {
    "collapsed": true
   },
   "outputs": [],
   "source": [
    "service = 'serverless-rest-api-with-dynamodb'\n",
    "stage = 'dev'\n",
    "cross_region_key_name = 'xregion_key'\n",
    "bucket_name = 'xtds-cf-templates'\n",
    "primary_region = 'us-east-1'"
   ]
  },
  {
   "cell_type": "code",
   "execution_count": null,
   "metadata": {
    "collapsed": false
   },
   "outputs": [],
   "source": [
    "stack_name = get_stack_name(service, stage)\n",
    "east_endpoint = get_endpoint(cformation_east, stack_name)\n",
    "print east_endpoint\n",
    "\n",
    "west_endpoint = get_endpoint(cformation_west, stack_name)\n",
    "print west_endpoint"
   ]
  },
  {
   "cell_type": "markdown",
   "metadata": {},
   "source": [
    "## Global Database Replication Group\n",
    "\n",
    "At this moment, DynamoDB global tables does not appear to be supported by Cloud Formation. The SDK, however,\n",
    "allows forming a global table from like-named tables in multiple regions"
   ]
  },
  {
   "cell_type": "code",
   "execution_count": null,
   "metadata": {
    "collapsed": false
   },
   "outputs": [],
   "source": [
    "table_name = service + '-' + stage\n",
    "print table_name"
   ]
  },
  {
   "cell_type": "code",
   "execution_count": null,
   "metadata": {
    "collapsed": true
   },
   "outputs": [],
   "source": [
    "ddb_client = boto3.client('dynamodb')"
   ]
  },
  {
   "cell_type": "code",
   "execution_count": null,
   "metadata": {
    "collapsed": false
   },
   "outputs": [],
   "source": [
    "response = ddb_client.create_global_table(\n",
    "    GlobalTableName=table_name,\n",
    "    ReplicationGroup=[\n",
    "        {\n",
    "            'RegionName': 'us-east-1'\n",
    "        },\n",
    "        {\n",
    "            'RegionName': 'us-west-2'\n",
    "        },\n",
    "    ]\n",
    ")\n",
    "\n",
    "print response"
   ]
  },
  {
   "cell_type": "markdown",
   "metadata": {},
   "source": [
    "## Key Synchronization\n",
    "\n",
    "This part of the notebook creates a common key for the gateway fronted app in both regions."
   ]
  },
  {
   "cell_type": "code",
   "execution_count": null,
   "metadata": {
    "collapsed": false
   },
   "outputs": [],
   "source": [
    "key_val = generate_api_key()\n",
    "print key_val"
   ]
  },
  {
   "cell_type": "code",
   "execution_count": null,
   "metadata": {
    "collapsed": false
   },
   "outputs": [],
   "source": [
    "# Create east key and add to plan\n",
    "plan_id_east, api_id_east = get_plan_and_api_ids(gw_east, service, stage)\n",
    "key_val_east, key_id_east = create_api_key_and_add_to_plan(gw_east, cross_region_key_name, key_val, plan_id_east)"
   ]
  },
  {
   "cell_type": "code",
   "execution_count": null,
   "metadata": {
    "collapsed": true
   },
   "outputs": [],
   "source": [
    "plan_id_west, api_id_west = get_plan_and_api_ids(gw_west, service, stage)\n",
    "key_val_west, key_id_west = create_api_key_and_add_to_plan(gw_west, cross_region_key_name, key_val, plan_id_west)"
   ]
  },
  {
   "cell_type": "markdown",
   "metadata": {},
   "source": [
    "## Custom Domain Names\n",
    "\n",
    "Now that API gateway deployments can be tagged as regional, we are free from the tyranny of cloud front certificate\n",
    "restrictions that prevented us from registering certificates with the same domain name in two different regions.\n",
    "\n",
    "With regional API deployments, we can associated the same SSL cert with the endpoints in both regions, and use the certificate domain as the route 53 alias to define failover or weighted  routing policies (or any others we desire)."
   ]
  },
  {
   "cell_type": "code",
   "execution_count": null,
   "metadata": {
    "collapsed": true
   },
   "outputs": [],
   "source": [
    "domain_name = 'superapi.elcaro.net'"
   ]
  },
  {
   "cell_type": "markdown",
   "metadata": {},
   "source": [
    "### East"
   ]
  },
  {
   "cell_type": "code",
   "execution_count": null,
   "metadata": {
    "collapsed": false
   },
   "outputs": [],
   "source": [
    "# Custom domains hang around even when the APIs the are associated with are deleted. In\n",
    "# this cell we figure out if the following cells need to be executed.\n",
    "regional_domain_name = ''\n",
    "response = gw_east.get_domain_names()\n",
    "\n",
    "items = response['items']\n",
    "\n",
    "items = [x for x in items if x['domainName'] == domain_name]\n",
    "\n",
    "if len(items) == 1:\n",
    "    regional_domain_name = items[0]['regionalDomainName']\n",
    "    print 'Custom domain name for API exists with regional domain name {}'.format(regional_domain_name)\n",
    "    print '===> Skip the rest of the cells in this section'\n",
    "else:\n",
    "    print '===> Custom domain does not exist - continue executing the cells in this section of the notebook'\n",
    "    "
   ]
  },
  {
   "cell_type": "code",
   "execution_count": null,
   "metadata": {
    "collapsed": false
   },
   "outputs": [],
   "source": [
    "# We need to select the certificate associated with out domain name\n",
    "acm_client = boto3.client('acm')"
   ]
  },
  {
   "cell_type": "code",
   "execution_count": null,
   "metadata": {
    "collapsed": false
   },
   "outputs": [],
   "source": [
    "response = acm_client.list_certificates()\n",
    "\n",
    "summaryList = response['CertificateSummaryList']\n",
    "print summaryList\n",
    "\n",
    "domain_cert = [x for x in summaryList if x['DomainName'] == domain_name][0]\n",
    "print domain_cert\n",
    "\n",
    "cert_arn = domain_cert['CertificateArn']\n",
    "print cert_arn"
   ]
  },
  {
   "cell_type": "code",
   "execution_count": null,
   "metadata": {
    "collapsed": false
   },
   "outputs": [],
   "source": [
    "# Create the domain name\n",
    "response = gw_east.create_domain_name(\n",
    "    domainName=domain_name,\n",
    "    regionalCertificateArn=cert_arn,\n",
    "    endpointConfiguration={\n",
    "        'types': [\n",
    "            'REGIONAL'\n",
    "        ]\n",
    "    }\n",
    ")\n",
    "\n",
    "print response"
   ]
  },
  {
   "cell_type": "code",
   "execution_count": null,
   "metadata": {
    "collapsed": false
   },
   "outputs": [],
   "source": [
    "regional_domain_name = response['regionalDomainName']\n",
    "print regional_domain_name"
   ]
  },
  {
   "cell_type": "code",
   "execution_count": null,
   "metadata": {
    "collapsed": false
   },
   "outputs": [],
   "source": [
    "# Get the rest api id\n",
    "response = gw_east.get_rest_apis()\n",
    "print response\n",
    "\n",
    "items = response['items']\n",
    "item = [x for x in items if x['name'] == stage + '-' + service][0]\n",
    "print item\n",
    "\n",
    "rest_api_id = item['id']\n",
    "print rest_api_id"
   ]
  },
  {
   "cell_type": "code",
   "execution_count": null,
   "metadata": {
    "collapsed": false
   },
   "outputs": [],
   "source": [
    "# Create custom domain mapping for our stage - here we subsume the stage into the mapping\n",
    "response = gw_east.create_base_path_mapping(\n",
    "    domainName=domain_name,\n",
    "    basePath='',\n",
    "    restApiId=rest_api_id,\n",
    "    stage=stage\n",
    ")\n",
    "\n",
    "print response"
   ]
  },
  {
   "cell_type": "code",
   "execution_count": null,
   "metadata": {
    "collapsed": false
   },
   "outputs": [],
   "source": [
    "# East health check endpoint\n",
    "east_hc_cname = rest_api_id + '.execute-api.us-east-1.amazonaws.com'\n",
    "print east_hc_cname"
   ]
  },
  {
   "cell_type": "markdown",
   "metadata": {},
   "source": [
    "### West"
   ]
  },
  {
   "cell_type": "code",
   "execution_count": null,
   "metadata": {
    "collapsed": false
   },
   "outputs": [],
   "source": [
    "# Custom domains hang around even when the APIs the are associated with are deleted. In\n",
    "# this cell we figure out if the following cells need to be executed.\n",
    "west_domain_name = ''\n",
    "response = gw_west.get_domain_names()\n",
    "\n",
    "items = response['items']\n",
    "\n",
    "items = [x for x in items if x['domainName'] == domain_name]\n",
    "\n",
    "if len(items) == 1:\n",
    "    west_domain_name = items[0]['regionalDomainName']\n",
    "    print 'Custom domain name for API exists with regional domain name {}'.format(west_domain_name)\n",
    "    print '===> Skip the rest of the cells in this section'\n",
    "else:\n",
    "    print '===> Custom domain does not exist - continue executing the cells in this section of the notebook'\n"
   ]
  },
  {
   "cell_type": "code",
   "execution_count": null,
   "metadata": {
    "collapsed": true
   },
   "outputs": [],
   "source": [
    "acm_west = boto3.client('acm', region_name='us-west-2')"
   ]
  },
  {
   "cell_type": "code",
   "execution_count": null,
   "metadata": {
    "collapsed": false
   },
   "outputs": [],
   "source": [
    "response = acm_west.list_certificates()\n",
    "\n",
    "summaryList = response['CertificateSummaryList']\n",
    "print summaryList\n",
    "\n",
    "domain_cert = [x for x in summaryList if x['DomainName'] == domain_name][0]\n",
    "print domain_cert\n",
    "\n",
    "cert_arn = domain_cert['CertificateArn']\n",
    "print cert_arn"
   ]
  },
  {
   "cell_type": "code",
   "execution_count": null,
   "metadata": {
    "collapsed": false
   },
   "outputs": [],
   "source": [
    "# Create the domain name\n",
    "response = gw_west.create_domain_name(\n",
    "    domainName=domain_name,\n",
    "    regionalCertificateArn=cert_arn,\n",
    "    endpointConfiguration={\n",
    "        'types': [\n",
    "            'REGIONAL'\n",
    "        ]\n",
    "    }\n",
    ")\n",
    "\n",
    "print response"
   ]
  },
  {
   "cell_type": "code",
   "execution_count": null,
   "metadata": {
    "collapsed": false
   },
   "outputs": [],
   "source": [
    "west_domain_name = response['regionalDomainName']\n",
    "print west_domain_name"
   ]
  },
  {
   "cell_type": "code",
   "execution_count": null,
   "metadata": {
    "collapsed": false
   },
   "outputs": [],
   "source": [
    "# Get the rest api id\n",
    "response = gw_west.get_rest_apis()\n",
    "print response\n",
    "\n",
    "items = response['items']\n",
    "item = [x for x in items if x['name'] == stage + '-' + service][0]\n",
    "print item\n",
    "\n",
    "rest_api_id = item['id']\n",
    "print rest_api_id"
   ]
  },
  {
   "cell_type": "code",
   "execution_count": null,
   "metadata": {
    "collapsed": false
   },
   "outputs": [],
   "source": [
    "# Create custom domain mapping for our stage - here we subsume the stage into the mapping\n",
    "response = gw_west.create_base_path_mapping(\n",
    "    domainName=domain_name,\n",
    "    basePath='',\n",
    "    restApiId=rest_api_id,\n",
    "    stage=stage\n",
    ")\n",
    "\n",
    "print response"
   ]
  },
  {
   "cell_type": "code",
   "execution_count": null,
   "metadata": {
    "collapsed": false
   },
   "outputs": [],
   "source": [
    "# West health check endpoint\n",
    "west_hc_cname = rest_api_id + '.execute-api.us-west-2.amazonaws.com'\n",
    "print west_hc_cname"
   ]
  },
  {
   "cell_type": "markdown",
   "metadata": {},
   "source": [
    "## Route 53 Set Up\n",
    "\n",
    "For this deployment, we'll make east our primary region and west our secondary region. Note this is arbitrary, and also note we can set up other policies like weighted routing, latency based routing, etc."
   ]
  },
  {
   "cell_type": "code",
   "execution_count": null,
   "metadata": {
    "collapsed": true
   },
   "outputs": [],
   "source": [
    "r53_client = boto3.client('route53')"
   ]
  },
  {
   "cell_type": "markdown",
   "metadata": {},
   "source": [
    "### Health Check - East"
   ]
  },
  {
   "cell_type": "code",
   "execution_count": null,
   "metadata": {
    "collapsed": false
   },
   "outputs": [],
   "source": [
    "caller_ref = generate_api_key() # Note this generates a uuid string that can be used as a key\n",
    "print caller_ref\n",
    "\n",
    "print regional_domain_name"
   ]
  },
  {
   "cell_type": "code",
   "execution_count": null,
   "metadata": {
    "collapsed": false
   },
   "outputs": [],
   "source": [
    "# East health check\n",
    "response = r53_client.create_health_check(\n",
    "    CallerReference=caller_ref,\n",
    "     HealthCheckConfig={\n",
    "        'Type':'HTTPS',\n",
    "        'ResourcePath':'/' + stage + '/todos/health',\n",
    "        'FullyQualifiedDomainName':east_hc_cname\n",
    "    }\n",
    ")\n",
    "\n",
    "print response"
   ]
  },
  {
   "cell_type": "code",
   "execution_count": null,
   "metadata": {
    "collapsed": false
   },
   "outputs": [],
   "source": [
    "hc_id = response['HealthCheck']['Id']\n",
    "print 'health check id: {}'.format(hc_id)"
   ]
  },
  {
   "cell_type": "code",
   "execution_count": null,
   "metadata": {
    "collapsed": false
   },
   "outputs": [],
   "source": [
    "# Now tag the health check name\n",
    "tag_resp = r53_client.change_tags_for_resource(\n",
    "    ResourceType='healthcheck',\n",
    "    ResourceId=hc_id,\n",
    "    AddTags=[\n",
    "        {\n",
    "            'Key':'Name',\n",
    "            'Value':'east-api-hc'\n",
    "        },\n",
    "    ]\n",
    ")\n",
    "\n",
    "print tag_resp"
   ]
  },
  {
   "cell_type": "code",
   "execution_count": null,
   "metadata": {
    "collapsed": false
   },
   "outputs": [],
   "source": [
    "hc_resp = r53_client.get_health_check_status(\n",
    "    HealthCheckId=hc_id\n",
    ")\n",
    "\n",
    "print hc_resp"
   ]
  },
  {
   "cell_type": "markdown",
   "metadata": {},
   "source": [
    "### Health Check - West"
   ]
  },
  {
   "cell_type": "code",
   "execution_count": null,
   "metadata": {
    "collapsed": false
   },
   "outputs": [],
   "source": [
    "caller_ref = generate_api_key() # Note this generates a uuid string that can be used as a key\n",
    "print caller_ref\n",
    "\n",
    "print west_domain_name"
   ]
  },
  {
   "cell_type": "code",
   "execution_count": null,
   "metadata": {
    "collapsed": false
   },
   "outputs": [],
   "source": [
    "# West health check\n",
    "response = r53_client.create_health_check(\n",
    "    CallerReference=caller_ref,\n",
    "     HealthCheckConfig={\n",
    "        'Type':'HTTPS',\n",
    "        'ResourcePath': '/' + stage + '/todos/health',\n",
    "        'FullyQualifiedDomainName':west_hc_cname\n",
    "    }\n",
    ")\n",
    "\n",
    "print response"
   ]
  },
  {
   "cell_type": "code",
   "execution_count": null,
   "metadata": {
    "collapsed": false
   },
   "outputs": [],
   "source": [
    "hc_id = response['HealthCheck']['Id']\n",
    "print 'health check id: {}'.format(hc_id)"
   ]
  },
  {
   "cell_type": "code",
   "execution_count": null,
   "metadata": {
    "collapsed": false
   },
   "outputs": [],
   "source": [
    "# Now tag the health check name\n",
    "tag_resp = r53_client.change_tags_for_resource(\n",
    "    ResourceType='healthcheck',\n",
    "    ResourceId=hc_id,\n",
    "    AddTags=[\n",
    "        {\n",
    "            'Key':'Name',\n",
    "            'Value':'west-api-hc'\n",
    "        },\n",
    "    ]\n",
    ")\n",
    "\n",
    "print tag_resp"
   ]
  },
  {
   "cell_type": "markdown",
   "metadata": {},
   "source": [
    "### Route 53 CNames and Routing Policy"
   ]
  },
  {
   "cell_type": "code",
   "execution_count": null,
   "metadata": {
    "collapsed": false
   },
   "outputs": [],
   "source": [
    "hosted_zone = 'elcaro.net.'\n",
    "response = r53_client.list_hosted_zones()\n",
    "\n",
    "zones = response['HostedZones']\n",
    "\n",
    "zones = [x for x in zones if x['Name'] == hosted_zone]\n",
    "\n",
    "hosted_zone_id = zones[0]['Id']\n",
    "\n",
    "print hosted_zone_id"
   ]
  },
  {
   "cell_type": "code",
   "execution_count": null,
   "metadata": {
    "collapsed": false
   },
   "outputs": [],
   "source": [
    "# Um, grab the health check ids again - we'll fix this later\n",
    "response = r53_client.list_health_checks()\n",
    "\n",
    "health_checks = response['HealthChecks']\n",
    "print health_checks\n",
    "\n",
    "east_check = [x for x in health_checks if x['HealthCheckConfig']['FullyQualifiedDomainName'] == east_hc_cname][0]['Id']\n",
    "print east_check\n",
    "\n",
    "west_check = [x for x in health_checks if x['HealthCheckConfig']['FullyQualifiedDomainName'] == west_hc_cname][0]['Id']\n",
    "print west_check"
   ]
  },
  {
   "cell_type": "code",
   "execution_count": null,
   "metadata": {
    "collapsed": false
   },
   "outputs": [],
   "source": [
    "response = r53_client.list_resource_record_sets(\n",
    "    HostedZoneId=hosted_zone_id\n",
    ")\n",
    "print response"
   ]
  },
  {
   "cell_type": "code",
   "execution_count": null,
   "metadata": {
    "collapsed": false
   },
   "outputs": [],
   "source": [
    "response = r53_client.change_resource_record_sets(\n",
    "    HostedZoneId=hosted_zone_id,\n",
    "    ChangeBatch={\n",
    "        'Changes': [\n",
    "            {\n",
    "                'Action': 'CREATE',\n",
    "                'ResourceRecordSet': {\n",
    "                    'Name': domain_name + '.',\n",
    "                    'Type': 'CNAME',\n",
    "                    'SetIdentifier': 'east',\n",
    "                    'Weight': 50,\n",
    "                    'TTL': 30,\n",
    "                    'ResourceRecords': [\n",
    "                        {\n",
    "                            'Value': regional_domain_name\n",
    "                        },\n",
    "                    ],\n",
    "                    'HealthCheckId': east_check\n",
    "                }\n",
    "            },\n",
    "            {\n",
    "                'Action': 'CREATE',\n",
    "                'ResourceRecordSet': {\n",
    "                    'Name': domain_name + '.',\n",
    "                    'Type': 'CNAME',\n",
    "                    'SetIdentifier': 'west',\n",
    "                    'Weight': 50,\n",
    "                    'TTL': 30,\n",
    "                    'ResourceRecords': [\n",
    "                        {\n",
    "                            'Value': west_domain_name\n",
    "                        },\n",
    "                    ],\n",
    "                    'HealthCheckId': west_check\n",
    "                }\n",
    "            }\n",
    "        ]\n",
    "    }\n",
    ")\n",
    "\n",
    "print response"
   ]
  },
  {
   "cell_type": "code",
   "execution_count": null,
   "metadata": {
    "collapsed": true
   },
   "outputs": [],
   "source": []
  }
 ],
 "metadata": {
  "kernelspec": {
   "display_name": "Python 2",
   "language": "python",
   "name": "python2"
  },
  "language_info": {
   "codemirror_mode": {
    "name": "ipython",
    "version": 2
   },
   "file_extension": ".py",
   "mimetype": "text/x-python",
   "name": "python",
   "nbconvert_exporter": "python",
   "pygments_lexer": "ipython2",
   "version": "2.7.12"
  }
 },
 "nbformat": 4,
 "nbformat_minor": 0
}
